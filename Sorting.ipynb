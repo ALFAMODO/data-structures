{
 "cells": [
  {
   "cell_type": "markdown",
   "id": "5359eedf-f44e-45ff-bc75-8edbe6420c4b",
   "metadata": {},
   "source": [
    "# Sorting Algorithms"
   ]
  },
  {
   "cell_type": "markdown",
   "id": "aeb29687-e385-4971-9be5-f67c167bfbc9",
   "metadata": {},
   "source": [
    "## Quick Sort"
   ]
  },
  {
   "cell_type": "markdown",
   "id": "3b85b7df-a801-4df8-914b-1eaeb45f159a",
   "metadata": {},
   "source": [
    "#### QuickSort is a sorting algorithm based on the Divide and Conquer algorithm that picks an element as a pivot and partitions the given array around the picked pivot by placing the pivot in its correct position in the sorted array.\n",
    "\n",
    "- https://www.youtube.com/watch?v=kFeXwkgnQ9U"
   ]
  },
  {
   "cell_type": "code",
   "execution_count": 10,
   "id": "d4ae1af2-80f2-42a7-b036-35ffeb0e203c",
   "metadata": {},
   "outputs": [
    {
     "name": "stdout",
     "output_type": "stream",
     "text": [
      "[1, 2, 3, 4, 5, 5, 6, 7, 7]\n"
     ]
    }
   ],
   "source": [
    "def quicksort(seq):\n",
    "    if len(seq) <= 1:\n",
    "        return seq\n",
    "    else:\n",
    "        pivot = seq.pop()\n",
    "\n",
    "    items_greater = []\n",
    "    items_lower = []\n",
    "\n",
    "    for item in seq:\n",
    "        if item <= pivot:\n",
    "            items_lower.append(item)\n",
    "        else:\n",
    "            items_greater.append(item)\n",
    "\n",
    "    return quicksort(items_lower) + [pivot] + quicksort(items_greater)\n",
    "\n",
    "print(quicksort([3,5,2,7,1,5,7,4,6]))\n",
    "        "
   ]
  },
  {
   "cell_type": "markdown",
   "id": "6c00e4f7-6806-4b46-a65e-3ed0b1722da2",
   "metadata": {},
   "source": [
    "### Time Complexity:\n",
    "\n",
    "- Average case: O(nlogn)\n",
    "- Worst case: O(n2)\n",
    "\n",
    "### Space Complexity:\n",
    "\n",
    "- Average case: O(logn)\n",
    "- Worst case: O(n)\n"
   ]
  },
  {
   "cell_type": "code",
   "execution_count": 57,
   "id": "43c0c938-57e9-4dfb-af1f-084d8cbf3394",
   "metadata": {},
   "outputs": [
    {
     "name": "stdout",
     "output_type": "stream",
     "text": [
      "[1, 2, 3, 4, 5, 5, 6, 7, 7]\n"
     ]
    }
   ],
   "source": [
    "def quicksort(arr, low=0, high=None):\n",
    "    if high is None:\n",
    "        high = len(arr)-1\n",
    "\n",
    "    if low < high:\n",
    "\n",
    "        pi = partition(arr, low, high)\n",
    "        quicksort(arr, low, pi-1)\n",
    "        quicksort(arr, pi+1, high)\n",
    "    \n",
    "    return arr\n",
    "\n",
    "def partition(arr, low, high):\n",
    "    pivot = arr[high]\n",
    "    i = low-1\n",
    "    for j in range(low, high):\n",
    "        if arr[j] <= pivot:\n",
    "            i += 1\n",
    "            arr[i], arr[j] = arr[j], arr[i]\n",
    "    \n",
    "    arr[i+1], arr[high] = arr[high], arr[i+1]\n",
    "    return i+1\n",
    "\n",
    "arr = [3,5,2,7,1,5,7,4,6]\n",
    "quicksort(arr)\n",
    "print(arr)"
   ]
  },
  {
   "cell_type": "markdown",
   "id": "bd726804",
   "metadata": {},
   "source": [
    "## Merge Sort"
   ]
  },
  {
   "cell_type": "markdown",
   "id": "12e53d54",
   "metadata": {},
   "source": [
    "#### Merge sort is a sorting algorithm that follows the divide-and-conquer approach. It works by recursively dividing the input array into smaller subarrays and sorting those subarrays then merging them back together to obtain the sorted array.\n",
    "\n",
    "#### In simple terms, we can say that the process of merge sort is to divide the array into two halves, sort each half, and then merge the sorted halves back together. This process is repeated until the entire array is sorted."
   ]
  },
  {
   "cell_type": "markdown",
   "id": "dc73f4ad",
   "metadata": {},
   "source": []
  }
 ],
 "metadata": {
  "kernelspec": {
   "display_name": "Python 3 (ipykernel)",
   "language": "python",
   "name": "python3"
  },
  "language_info": {
   "codemirror_mode": {
    "name": "ipython",
    "version": 3
   },
   "file_extension": ".py",
   "mimetype": "text/x-python",
   "name": "python",
   "nbconvert_exporter": "python",
   "pygments_lexer": "ipython3",
   "version": "3.11.8"
  }
 },
 "nbformat": 4,
 "nbformat_minor": 5
}
